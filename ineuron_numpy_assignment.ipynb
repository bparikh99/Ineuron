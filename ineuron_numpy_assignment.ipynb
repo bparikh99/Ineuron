{
 "cells": [
  {
   "cell_type": "markdown",
   "metadata": {},
   "source": [
    "### `Write a function so that the columns of the output matrix are powers of the input vector. The order of the powers is determined by the increasing boolean argument. Specifically, when increasing is False, the i-th output column is the input vector raised element-wise to the power of N - i - 1."
   ]
  },
  {
   "cell_type": "code",
   "execution_count": 13,
   "metadata": {},
   "outputs": [
    {
     "name": "stdout",
     "output_type": "stream",
     "text": [
      "The input array is: [1 4 6 7 8] \n",
      "\n",
      "Number of columns in output matrix should be: 3 \n",
      "\n",
      "Vander matrix for decreasing order of powers:\n",
      "\n",
      " [[ 1  1  1]\n",
      " [16  4  1]\n",
      " [36  6  1]\n",
      " [49  7  1]\n",
      " [64  8  1]] \n",
      "\n",
      "Vander matrix for increasing order of powers:\n",
      "\n",
      " [[ 1  1  1]\n",
      " [ 1  4 16]\n",
      " [ 1  6 36]\n",
      " [ 1  7 49]\n",
      " [ 1  8 64]] \n",
      "\n",
      "The input array is: [1 4 6 7 8] \n",
      "\n",
      "Number of columns in output matrix should be: 3 \n",
      "\n",
      "Vander matrix for decreasing order of powers:\n",
      "\n",
      " [[   1    1    1    1    1]\n",
      " [ 256   64   16    4    1]\n",
      " [1296  216   36    6    1]\n",
      " [2401  343   49    7    1]\n",
      " [4096  512   64    8    1]] \n",
      "\n",
      "Vander matrix for increasing order of powers:\n",
      "\n",
      " [[   1    1    1    1    1]\n",
      " [   1    4   16   64  256]\n",
      " [   1    6   36  216 1296]\n",
      " [   1    7   49  343 2401]\n",
      " [   1    8   64  512 4096]] \n",
      "\n"
     ]
    }
   ],
   "source": [
    "import numpy as np\n",
    "   \n",
    "def vander(data, no, increasing=False):\n",
    "    \n",
    "    if not increasing:\n",
    "        ans = np.array([x**(no-1-i) for x in data for i in range(no)]).reshape(data.size,no)\n",
    "    elif increasing:\n",
    "        ans = np.array([x**i for x in data for i in range(no)]).reshape(data.size,no)\n",
    "    \n",
    "    return ans\n",
    "\n",
    "\n",
    "data= np.array([1,4,6,7,8])\n",
    "no = 3\n",
    "op_matx_dec_order = vander(data,no,False)\n",
    "op_matx_inc_order = vander(data,no,True)\n",
    "\n",
    "print(\"The input array is:\",data,\"\\n\")\n",
    "print(\"Number of columns in output matrix should be:\",no_col,\"\\n\")\n",
    "print(\"Vander matrix for decreasing order of powers:\\n\\n\",op_matx_dec_order,\"\\n\")\n",
    "print(\"Vander matrix for increasing order of powers:\\n\\n\",op_matx_inc_order,\"\\n\")\n",
    "\n",
    "inputvector = np.array([1,3,5,7,9])\n",
    "no = 5\n",
    "op_matx_dec_order = vander(data,no,False)\n",
    "op_matx_inc_order = vander(data,no,True)\n",
    "\n",
    "print(\"The input array is:\",data,\"\\n\")\n",
    "print(\"Number of columns in output matrix should be:\",no_col,\"\\n\")\n",
    "print(\"Vander matrix for decreasing order of powers:\\n\\n\",op_matx_dec_order,\"\\n\")\n",
    "print(\"Vander matrix for increasing order of powers:\\n\\n\",op_matx_inc_order,\"\\n\")"
   ]
  }
 ],
 "metadata": {
  "kernelspec": {
   "display_name": "Python [conda env:.conda-py37_64] *",
   "language": "python",
   "name": "conda-env-.conda-py37_64-py"
  },
  "language_info": {
   "codemirror_mode": {
    "name": "ipython",
    "version": 3
   },
   "file_extension": ".py",
   "mimetype": "text/x-python",
   "name": "python",
   "nbconvert_exporter": "python",
   "pygments_lexer": "ipython3",
   "version": "3.7.7"
  }
 },
 "nbformat": 4,
 "nbformat_minor": 4
}
